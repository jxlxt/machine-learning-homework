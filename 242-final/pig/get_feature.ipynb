{
 "cells": [
  {
   "cell_type": "code",
   "execution_count": 14,
   "metadata": {},
   "outputs": [],
   "source": [
    "import mxnet as mx\n",
    "from mxnet import autograd\n",
    "from mxnet import gluon\n",
    "from mxnet import image\n",
    "from mxnet import init\n",
    "from mxnet import nd\n",
    "from mxnet.gluon.data import vision\n",
    "from mxnet.gluon.model_zoo import vision as models\n",
    "import numpy as np\n",
    "import pandas as pd\n",
    "from tqdm import tqdm\n",
    "import cv2\n",
    "import h5py\n",
    "import os\n",
    "\n",
    "import matplotlib.pyplot as plt\n",
    "\n",
    "%matplotlib inline\n",
    "%config InlineBackend.figure_format = 'retina'\n",
    "\n",
    "ctx = [mx.cpu(i) for i in range(4)]#[mx.gpu(i) for i in range(4)]"
   ]
  },
  {
   "cell_type": "markdown",
   "metadata": {},
   "source": [
    "# "
   ]
  },
  {
   "cell_type": "code",
   "execution_count": 7,
   "metadata": {},
   "outputs": [
    {
     "name": "stderr",
     "output_type": "stream",
     "text": [
      "100%|██████████| 1800/1800 [02:18<00:00, 13.02it/s]\n"
     ]
    }
   ],
   "source": [
    "df = pd.read_csv('new_labels.csv')\n",
    "synset = sorted(set(df['breed']))\n",
    "n = len(df)\n",
    "\n",
    "X_224 = nd.zeros((n, 3, 224, 224))\n",
    "X_299 = nd.zeros((n, 3, 299, 299))\n",
    "y = nd.zeros((n,))\n",
    "\n",
    "mean = np.array([0.485, 0.456, 0.406])\n",
    "std = np.array([0.229, 0.224, 0.225])\n",
    "\n",
    "for i, (fname, breed) in tqdm(df.iterrows(), total=n):\n",
    "    img = cv2.imread('train/%s.jpg' % fname)\n",
    "    img_224 = ((cv2.resize(img, (224, 224))[:,:,::-1] / 255.0 - mean) / std).transpose((2, 0, 1))\n",
    "    img_299 = ((cv2.resize(img, (299, 299))[:,:,::-1] / 255.0 - mean) / std).transpose((2, 0, 1))\n",
    "    \n",
    "    X_224[i] = nd.array(img_224)\n",
    "    X_299[i] = nd.array(img_299)\n",
    "    \n",
    "    y[i] = synset.index(breed)\n",
    "    \n",
    "    nd.waitall()"
   ]
  },
  {
   "cell_type": "code",
   "execution_count": 8,
   "metadata": {},
   "outputs": [],
   "source": [
    "nd.save('train.nd', [X_224, X_299, y])\n",
    "nd.save('labels.nd', y)"
   ]
  },
  {
   "cell_type": "code",
   "execution_count": 9,
   "metadata": {},
   "outputs": [
    {
     "name": "stderr",
     "output_type": "stream",
     "text": [
      "100%|██████████| 3000/3000 [03:50<00:00, 13.02it/s]\n"
     ]
    }
   ],
   "source": [
    "df_test = pd.read_csv('sample_submission1.csv')\n",
    "n_test = len(df_test)\n",
    "\n",
    "X_224_test = nd.zeros((n_test, 3, 224, 224))\n",
    "X_299_test = nd.zeros((n_test, 3, 299, 299))\n",
    "mean = np.array([0.485, 0.456, 0.406])\n",
    "std = np.array([0.229, 0.224, 0.225])\n",
    "\n",
    "for i, fname in tqdm(enumerate(df_test['id']), total=n_test):\n",
    "    img = cv2.imread('test/%s.jpg' % fname)\n",
    "#     a = 'test/%s.JPG' % fname\n",
    "#     print('test/%s.JPG' % fname)\n",
    "#     print(cv2.imread(a))\n",
    "    img_224 = ((cv2.resize(img, (224, 224))[:,:,::-1] / 255.0 - mean) / std).transpose((2, 0, 1))\n",
    "    img_299 = ((cv2.resize(img, (299, 299))[:,:,::-1] / 255.0 - mean) / std).transpose((2, 0, 1))\n",
    "    \n",
    "    X_224_test[i] = nd.array(img_224)\n",
    "    X_299_test[i] = nd.array(img_299)\n",
    "    \n",
    "    nd.waitall()"
   ]
  },
  {
   "cell_type": "code",
   "execution_count": 10,
   "metadata": {},
   "outputs": [],
   "source": [
    "nd.save('test.nd', [X_224_test, X_299_test])"
   ]
  },
  {
   "cell_type": "code",
   "execution_count": 11,
   "metadata": {},
   "outputs": [
    {
     "name": "stdout",
     "output_type": "stream",
     "text": [
      "CPU times: user 2.18 ms, sys: 10.9 s, total: 10.9 s\n",
      "Wall time: 15 s\n"
     ]
    }
   ],
   "source": [
    "%%time\n",
    "\n",
    "X_224, X_299, y = nd.load('train.nd')\n",
    "X_224_test, X_299_test = nd.load('test.nd')"
   ]
  },
  {
   "cell_type": "code",
   "execution_count": 12,
   "metadata": {},
   "outputs": [],
   "source": [
    "def save_features(model_name, data_train_iter, data_test_iter, ignore=False):\n",
    "    # 文件已存在\n",
    "    if os.path.exists('features_train_%s.nd' % model_name) and ignore:\n",
    "        if os.path.exists('features_test_%s.nd' % model_name):\n",
    "            return\n",
    "    \n",
    "    net = models.get_model(model_name, pretrained=True, ctx=ctx)\n",
    "    \n",
    "    for prefix, data_iter in zip(['train', 'test'], [data_train_iter, data_test_iter]):\n",
    "        features = []\n",
    "        for data in tqdm(data_iter):\n",
    "            # 并行预测数据\n",
    "            for data_slice in gluon.utils.split_and_load(data, ctx, even_split=False):\n",
    "                feature = net.features(data_slice)\n",
    "                if 'squeezenet' in model_name:\n",
    "                    feature = gluon.nn.GlobalAvgPool2D()(feature)\n",
    "                feature = gluon.nn.Flatten()(feature)\n",
    "                features.append(feature.as_in_context(mx.cpu()))\n",
    "            nd.waitall()\n",
    "        \n",
    "        features = nd.concat(*features, dim=0)\n",
    "        nd.save('features_%s_%s.nd' % (prefix, model_name), features)"
   ]
  },
  {
   "cell_type": "code",
   "execution_count": 13,
   "metadata": {
    "scrolled": true
   },
   "outputs": [],
   "source": [
    "batch_size = 128\n",
    "\n",
    "data_iter_224 = gluon.data.DataLoader(X_224, batch_size=batch_size)\n",
    "data_iter_299 = gluon.data.DataLoader(X_299, batch_size=batch_size)\n",
    "\n",
    "data_test_iter_224 = gluon.data.DataLoader(X_224_test, \n",
    "                                           batch_size=batch_size)\n",
    "data_test_iter_299 = gluon.data.DataLoader(X_299_test, \n",
    "                                           batch_size=batch_size)"
   ]
  },
  {
   "cell_type": "code",
   "execution_count": 16,
   "metadata": {
    "scrolled": false
   },
   "outputs": [],
   "source": [
    "from mxnet.gluon.model_zoo.model_store import _model_sha1\n",
    "\n",
    "for model in sorted(_model_sha1.keys()):\n",
    "    if model == 'inceptionv3':\n",
    "        save_features(model, data_iter_299, data_test_iter_299, ignore=True)\n",
    "    else:\n",
    "        save_features(model, data_iter_224, data_test_iter_224, ignore=True)"
   ]
  },
  {
   "cell_type": "code",
   "execution_count": null,
   "metadata": {},
   "outputs": [],
   "source": []
  }
 ],
 "metadata": {
  "kernelspec": {
   "display_name": "Python 3",
   "language": "python",
   "name": "python3"
  },
  "language_info": {
   "codemirror_mode": {
    "name": "ipython",
    "version": 3
   },
   "file_extension": ".py",
   "mimetype": "text/x-python",
   "name": "python",
   "nbconvert_exporter": "python",
   "pygments_lexer": "ipython3",
   "version": "3.6.3"
  }
 },
 "nbformat": 4,
 "nbformat_minor": 2
}

{
 "cells": [
  {
   "cell_type": "code",
   "execution_count": 1,
   "metadata": {},
   "outputs": [],
   "source": [
    "import numpy as np\n",
    "import pandas as pd\n",
    "from tqdm import tqdm\n",
    "import cv2\n",
    "import h5py\n",
    "import os\n",
    "\n",
    "import matplotlib.pyplot as plt\n",
    "\n",
    "%matplotlib inline\n",
    "%config InlineBackend.figure_format = 'retina'"
   ]
  },
  {
   "cell_type": "code",
   "execution_count": 12,
   "metadata": {},
   "outputs": [],
   "source": [
    "df = pd.read_csv('trainLabels.csv')\n",
    "synset = sorted(set(df['label']))\n",
    "n = len(df)\n",
    "y = np.zeros(n)\n",
    "# x = np.zeros((n,2352)\n",
    "file_labels = 'CIFAR10_labels.txt'\n",
    "# file_dogs = 'Dog_matrixs.txt'\n",
    "# # iterator\n",
    "# k = 0\n",
    "# for i, (fname, label) in tqdm(df.iterrows(), total=10):\n",
    "    \n",
    "# #     first tranfer image into grayscale, then resize the image into 100*75\n",
    "# #     finally reshape the image into [1, 7500] matrix\n",
    "#     img = cv2.imread('train/%s.jpg' % fname)\n",
    "#     img_224 = cv2.resize(img, (49, 16))\n",
    "#     r_224 = img_224.reshape(1, 2352)\n",
    "#     x[i] = r_224\n",
    "# #     store labels\n",
    "#     y[i] = synset.index(label)\n"
   ]
  },
  {
   "cell_type": "code",
   "execution_count": 13,
   "metadata": {},
   "outputs": [
    {
     "name": "stdout",
     "output_type": "stream",
     "text": [
      "(50000,)\n",
      "(10222, 2352)\n"
     ]
    }
   ],
   "source": [
    "print(y.shape)\n",
    "print(x.shape)"
   ]
  },
  {
   "cell_type": "code",
   "execution_count": 16,
   "metadata": {},
   "outputs": [],
   "source": [
    "\n",
    "with open(file_labels, 'wb') as f:\n",
    "     np.savetxt(f, y)\n",
    "\n",
    "# with open(file_dogs, 'wb') as h:\n",
    "#     np.savetxt(h, x)"
   ]
  },
  {
   "cell_type": "code",
   "execution_count": null,
   "metadata": {},
   "outputs": [],
   "source": []
  }
 ],
 "metadata": {
  "kernelspec": {
   "display_name": "Python 3",
   "language": "python",
   "name": "python3"
  },
  "language_info": {
   "codemirror_mode": {
    "name": "ipython",
    "version": 3
   },
   "file_extension": ".py",
   "mimetype": "text/x-python",
   "name": "python",
   "nbconvert_exporter": "python",
   "pygments_lexer": "ipython3",
   "version": "3.6.3"
  }
 },
 "nbformat": 4,
 "nbformat_minor": 2
}
